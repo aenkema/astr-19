{
 "cells": [
  {
   "cell_type": "code",
   "execution_count": null,
   "id": "5b756c85-eb3c-4bcf-8d88-060d569ba140",
   "metadata": {},
   "outputs": [],
   "source": [
    "import numpy as np\n",
    "import matplotlib.pyplot as plt\n",
    "from astropy.table import Table"
   ]
  },
  {
   "cell_type": "markdown",
   "id": "bcd6677a-dfba-4162-bccd-a49ae9c56b42",
   "metadata": {},
   "source": [
    "Function for sin(x)"
   ]
  },
  {
   "cell_type": "code",
   "execution_count": null,
   "id": "ad84177f-5bb4-4724-bfba-e77580a9946f",
   "metadata": {},
   "outputs": [],
   "source": [
    "def get_sin(x):\n",
    "    return np.sin(x)\n",
    "    #returns sin(x) in radians"
   ]
  },
  {
   "cell_type": "markdown",
   "id": "943fc929-4c9d-4478-9eaa-6deb164bc3a9",
   "metadata": {},
   "source": [
    "Function for cos(x)"
   ]
  },
  {
   "cell_type": "code",
   "execution_count": null,
   "id": "a1f50f4b-0de4-4140-b86b-3286655fed17",
   "metadata": {},
   "outputs": [],
   "source": [
    "def get_cos(x):\n",
    "    return np.cos(x)\n",
    "    #returns cos(x)"
   ]
  },
  {
   "cell_type": "markdown",
   "id": "ae04c0cc-cb68-4c94-bf4f-db38d16ad3c0",
   "metadata": {},
   "source": [
    "Defining our range"
   ]
  },
  {
   "cell_type": "code",
   "execution_count": null,
   "id": "5cb0ffbb-8d53-4496-9c13-2117401b70fe",
   "metadata": {},
   "outputs": [],
   "source": [
    "x = np.linspace(0, 2*np.pi, 1000)"
   ]
  },
  {
   "cell_type": "code",
   "execution_count": null,
   "id": "56816f1a-07d9-4d8b-bcce-008087c8aa9a",
   "metadata": {},
   "outputs": [],
   "source": [
    "sinx = get_sin(x)\n",
    "cosx = get_cos(x)\n",
    "\n",
    "for i in range(10):\n",
    "    print(x[i], sinx[i], cosx[i])"
   ]
  },
  {
   "cell_type": "code",
   "execution_count": null,
   "id": "d0226fc6-149c-4bb3-bad8-21b146653b86",
   "metadata": {},
   "outputs": [],
   "source": []
  }
 ],
 "metadata": {
  "kernelspec": {
   "display_name": "ASTR 19",
   "language": "python",
   "name": "astr19"
  },
  "language_info": {
   "codemirror_mode": {
    "name": "ipython",
    "version": 3
   },
   "file_extension": ".py",
   "mimetype": "text/x-python",
   "name": "python",
   "nbconvert_exporter": "python",
   "pygments_lexer": "ipython3",
   "version": "3.10.12"
  }
 },
 "nbformat": 4,
 "nbformat_minor": 5
}
